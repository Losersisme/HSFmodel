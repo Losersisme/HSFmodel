{
 "cells": [
  {
   "cell_type": "markdown",
   "metadata": {},
   "source": [
    "### HSF Backtest - v1 - 9/12/2017"
   ]
  },
  {
   "cell_type": "code",
   "execution_count": null,
   "metadata": {
    "collapsed": true
   },
   "outputs": [],
   "source": [
    "# v0: \n",
    "# v1: (cutoff(20%), sharpe(1.82, 1.39, 0.83, 0.64,...))\n",
    "# v2: (cutoffs(20,20,20,20,20,20,20), sharpe(1.82, 1.39, 0.83, 0.64,...))"
   ]
  },
  {
   "cell_type": "code",
   "execution_count": 1,
   "metadata": {},
   "outputs": [],
   "source": [
    "def backtest_v1(source, sector, qstart='2013Q1', qend='2016Q4', percent='25%', log_level='OFF'):\n",
    "    \n",
    "    from hanpy.qyear import QYear, q_fill\n",
    "    from hanpy.scoring import CutoffScoreConfig, score\n",
    "    from hanpy.log import Log\n",
    "    import pandas as pd\n",
    "    import numpy as np\n",
    "    from IPython.display import display\n",
    "    \n",
    "    \n",
    "    ## Config ##\n",
    "    #-----------------------------------------------------\n",
    "    version = 'BT v1'\n",
    "    vsn = 1\n",
    "    debug = Log(status=log_level)\n",
    "    \n",
    "    quarters = q_fill(qstart, qend)\n",
    "\n",
    "    metrics = [ 'PE_RATIO', 'TRAIL_12M_EPS', 'TOT_DEBT_TO_TOT_EQY', 'PX_TO_BOOK_RATIO',\\\n",
    "               'PRICE_TO_FCF', 'RETURN_COM_EQY', 'RETURN_ON_ASSET', 'ADJUSTED_BETA' ]\n",
    "\n",
    "    lvhs_metrics = [ 'PE_RATIO', 'TOT_DEBT_TO_TOT_EQY', 'PX_TO_BOOK_RATIO' ] # Low-value high score\n",
    "    hvhs_metrics = [ 'TRAIL_12M_EPS', 'PRICE_TO_FCF', 'RETURN_COM_EQY', 'RETURN_ON_ASSET' ] # High value high score\n",
    "\n",
    "    # Number of equities to buy in each sector\n",
    "    buy_limits = { \\\n",
    "              'Consumer Discretionary' : 3 ,\\\n",
    "              'Consumer Staples' : 3 ,\\\n",
    "              'Energy' : 3 ,\\\n",
    "              'Financials' : 3 ,\\\n",
    "              'Health Care' : 3 ,\\\n",
    "              'Industrials' : 3 ,\\\n",
    "              'Information Technology' : 3 ,\\\n",
    "              'Materials' : 3 ,\\\n",
    "              'Real Estate' : 3 ,\\\n",
    "              'Telecommunication Services' : 3 ,\\\n",
    "              'Utilities' : 3 \\\n",
    "                } \\\n",
    "\n",
    "    # Metric value must be better than 75% of historic metrics in the same sector\n",
    "    score_config = CutoffScoreConfig('25%')\n",
    "    #-----------------------------------------------------\n",
    "    \n",
    "    print('Backtesting {0} from {1}-{2} using {3} with source = {4}...'.format(sector, qstart, qend, version, source))\n",
    "    debug.log('Loading source data from {0}...'.format(source))\n",
    "    sdf = pd.read_excel(source, index_col=[0,1]) # Indices are QYEAR, GICS_SECTOR_NAME\n",
    "    all_quarters = sorted(set(sdf.index.get_level_values(0).values))\n",
    "    sectors = sorted(set(sdf.index.get_level_values(1).values))\n",
    "    \n",
    "    if sector not in sectors:\n",
    "        raise ValueError('Invalid sector selection: {0}'.format(sector))\n",
    "    \n",
    "    debug.log('Generating scoring columns...')\n",
    "    sc_col = []\n",
    "    for met in metrics:\n",
    "        name = met + '_SCORE'\n",
    "        sc_col.append(name)\n",
    "        sdf[name] = None\n",
    "    sdf['HSF_SCORE'] = None\n",
    "    \n",
    "    "
   ]
  },
  {
   "cell_type": "code",
   "execution_count": 2,
   "metadata": {},
   "outputs": [],
   "source": [
    "def gen_frames(source, sector, startp=15, stopp=25, step=1):\n",
    "    ptr = startp\n",
    "    steps = []\n",
    "    while ptr < stopp:\n",
    "        steps.append()\n",
    "    return"
   ]
  },
  {
   "cell_type": "markdown",
   "metadata": {},
   "source": [
    "### HSF Backtest Optimization Algorithm\n",
    "\n",
    "The HSF Backtest provides the capcability to identify the effectiveness of metric cutoff values based on the in-sector n-equity portfolio sharpe ratio. The number of equities selected is chosen based on Bloomberg data*.\n",
    "\n"
   ]
  },
  {
   "cell_type": "code",
   "execution_count": null,
   "metadata": {},
   "outputs": [],
   "source": []
  },
  {
   "cell_type": "code",
   "execution_count": null,
   "metadata": {},
   "outputs": [],
   "source": []
  }
 ],
 "metadata": {
  "anaconda-cloud": {},
  "kernelspec": {
   "display_name": "Python 3",
   "language": "python",
   "name": "python3"
  },
  "language_info": {
   "codemirror_mode": {
    "name": "ipython",
    "version": 3
   },
   "file_extension": ".py",
   "mimetype": "text/x-python",
   "name": "python",
   "nbconvert_exporter": "python",
   "pygments_lexer": "ipython3",
   "version": "3.6.5"
  }
 },
 "nbformat": 4,
 "nbformat_minor": 1
}
