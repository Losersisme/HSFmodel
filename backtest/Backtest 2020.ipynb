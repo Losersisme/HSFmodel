{
 "cells": [
  {
   "cell_type": "markdown",
   "metadata": {},
   "source": [
    "# Backtest 2020"
   ]
  },
  {
   "cell_type": "markdown",
   "metadata": {},
   "source": [
    "## What is the backtest?\n",
    "\n",
    "The backtest analyzes data from a past period of time to determine the ideal values of seven different metrics (discussed later) for each sector.  This version of the backtest uses the jupyter notebook format to describe each part, as well as to increase efficiency."
   ]
  },
  {
   "cell_type": "markdown",
   "metadata": {},
   "source": [
    "###  \n",
    "### Library Imports\n",
    "\n",
    "- pandas - used to manipulate data within different data structures\n",
    "- datetime - used to get today's date and current time\n",
    "- time - used for calculating runtime\n",
    "- numpy - supports mathematical functions for large volume data structures\n",
    "- product - creates a cartesian product"
   ]
  },
  {
   "cell_type": "code",
   "execution_count": 2,
   "metadata": {},
   "outputs": [],
   "source": [
    "from pandas import *\n",
    "import pandas as pd\n",
    "from datetime import *\n",
    "import time\n",
    "import numpy as np\n",
    "from itertools import product\n",
    "from IPython.display import display"
   ]
  },
  {
   "cell_type": "markdown",
   "metadata": {},
   "source": [
    "### Effiency and timing\n",
    "\n",
    "In the past, it has taken dozens of hours to complete the backtests.  This is costly in terms of time and electricity (which should be considered as a sustainability-oriented organization).  The block below assigns the current time to a variable so that we can later determine runtime.\n",
    "\n",
    "We also establish our sectors and metrics in lists."
   ]
  },
  {
   "cell_type": "code",
   "execution_count": 3,
   "metadata": {},
   "outputs": [],
   "source": [
    "metrics = [ 'PE_RATIO', 'PX_TO_BOOK_RATIO', 'TRAIL_12M_EPS', 'TOT_DEBT_TO_TOT_EQY', \\\n",
    "               'PX_TO_FREE_CASH_FLOW', 'RETURN_COM_EQY', 'RETURN_ON_ASSET' ]\n",
    "\n",
    "#These are used in creating and manipulating dataframes\n",
    "dfTests = ['peTest','pbTest','epsTest','deTest','fcfTest','roeTest','roaTest']\n",
    "dfScores = ['peScore','pbScore','epsScore','deScore','fcfScore','roeScore','roaScore']\n",
    "\n",
    "lvhs_metrics = [ 'PE_RATIO', 'TOT_DEBT_TO_TOT_EQY', 'PX_TO_BOOK_RATIO' ] # Low-value high score metrics\n",
    "hvhs_metrics = [ 'TRAIL_12M_EPS', 'PRICE_TO_FCF', 'RETURN_COM_EQY', 'RETURN_ON_ASSET' ] # High value high score metrics\n",
    "\n",
    "pd.options.mode.chained_assignment = None #allow chained assignment"
   ]
  },
  {
   "cell_type": "markdown",
   "metadata": {},
   "source": [
    "#  \n",
    "#   \n",
    "# Step 1: Data input and Setup, Organic Range Generation\n",
    "\n",
    "The basis of our backtest are frames - sets of each metric, each containing a different combination of values.  In order to determine what these values are, we have to come up with a range for each metric, for each sector."
   ]
  },
  {
   "cell_type": "markdown",
   "metadata": {},
   "source": [
    "### Data Import\n",
    "\n",
    "We first import our data file for range generation -- the last 10 years of data for each company.  The data is imported to a **dataframe** (DF), a data structure which can be thought of as an excel sheet manipulable through python.  The dataframe is then sorted by date.\n",
    "\n",
    "The line reading \"totalDF.dropna...\" drops rows where the date is empty.  We then establish a start date (generally five years prior to the test being run), and establish the date format as \"ordinal.\"  This ensures that our date formatting is compatible with that of our code.  Finally, we cut the data based on when our start date is, so that we are not using more data than is necessary and doing an excessive amount of computing."
   ]
  },
  {
   "cell_type": "code",
   "execution_count": 22,
   "metadata": {
    "scrolled": true
   },
   "outputs": [
    {
     "name": "stdout",
     "output_type": "stream",
     "text": [
      "Series([], Name: ordinalTime, dtype: datetime64[ns])\n",
      "Series([], Name: ordinalTime, dtype: datetime64[ns])\n"
     ]
    },
    {
     "ename": "TypeError",
     "evalue": "<class 'int'> type object 735842",
     "output_type": "error",
     "traceback": [
      "\u001b[1;31m---------------------------------------------------------------------------\u001b[0m",
      "\u001b[1;31mTypeError\u001b[0m                                 Traceback (most recent call last)",
      "\u001b[1;32m<ipython-input-22-79e3e3070f20>\u001b[0m in \u001b[0;36m<module>\u001b[1;34m()\u001b[0m\n\u001b[0;32m     17\u001b[0m \u001b[0mprint\u001b[0m\u001b[1;33m(\u001b[0m\u001b[0mtotalDF\u001b[0m\u001b[1;33m[\u001b[0m\u001b[1;34m'ordinalTime'\u001b[0m\u001b[1;33m]\u001b[0m\u001b[1;33m)\u001b[0m\u001b[1;33m\u001b[0m\u001b[0m\n\u001b[0;32m     18\u001b[0m \u001b[1;31m#mismatched type in condition.  The above date.toordinal is not being properly applied.\u001b[0m\u001b[1;33m\u001b[0m\u001b[1;33m\u001b[0m\u001b[0m\n\u001b[1;32m---> 19\u001b[1;33m \u001b[0mtotalDF\u001b[0m \u001b[1;33m=\u001b[0m \u001b[0mtotalDF\u001b[0m\u001b[1;33m.\u001b[0m\u001b[0mloc\u001b[0m\u001b[1;33m[\u001b[0m\u001b[0mtotalDF\u001b[0m\u001b[1;33m[\u001b[0m\u001b[1;34m'ordinalTime'\u001b[0m\u001b[1;33m]\u001b[0m\u001b[1;33m>=\u001b[0m\u001b[0mstartDate\u001b[0m\u001b[1;33m]\u001b[0m\u001b[1;33m\u001b[0m\u001b[0m\n\u001b[0m\u001b[0;32m     20\u001b[0m \u001b[1;33m\u001b[0m\u001b[0m\n\u001b[0;32m     21\u001b[0m \u001b[0mdisplay\u001b[0m\u001b[1;33m(\u001b[0m\u001b[0mtotalDF\u001b[0m\u001b[1;33m)\u001b[0m\u001b[1;33m\u001b[0m\u001b[0m\n",
      "\u001b[1;32m~\\Anaconda3\\lib\\site-packages\\pandas\\core\\ops.py\u001b[0m in \u001b[0;36mwrapper\u001b[1;34m(self, other, axis)\u001b[0m\n\u001b[0;32m   1199\u001b[0m             \u001b[1;31m# Series/Index behavior\u001b[0m\u001b[1;33m\u001b[0m\u001b[1;33m\u001b[0m\u001b[0m\n\u001b[0;32m   1200\u001b[0m             res_values = dispatch_to_index_op(op, self, other,\n\u001b[1;32m-> 1201\u001b[1;33m                                               pd.DatetimeIndex)\n\u001b[0m\u001b[0;32m   1202\u001b[0m             return self._constructor(res_values, index=self.index,\n\u001b[0;32m   1203\u001b[0m                                      name=res_name)\n",
      "\u001b[1;32m~\\Anaconda3\\lib\\site-packages\\pandas\\core\\ops.py\u001b[0m in \u001b[0;36mdispatch_to_index_op\u001b[1;34m(op, left, right, index_class)\u001b[0m\n\u001b[0;32m   1096\u001b[0m         \u001b[0mleft_idx\u001b[0m \u001b[1;33m=\u001b[0m \u001b[0mleft_idx\u001b[0m\u001b[1;33m.\u001b[0m\u001b[0m_shallow_copy\u001b[0m\u001b[1;33m(\u001b[0m\u001b[0mfreq\u001b[0m\u001b[1;33m=\u001b[0m\u001b[1;32mNone\u001b[0m\u001b[1;33m)\u001b[0m\u001b[1;33m\u001b[0m\u001b[0m\n\u001b[0;32m   1097\u001b[0m     \u001b[1;32mtry\u001b[0m\u001b[1;33m:\u001b[0m\u001b[1;33m\u001b[0m\u001b[0m\n\u001b[1;32m-> 1098\u001b[1;33m         \u001b[0mresult\u001b[0m \u001b[1;33m=\u001b[0m \u001b[0mop\u001b[0m\u001b[1;33m(\u001b[0m\u001b[0mleft_idx\u001b[0m\u001b[1;33m,\u001b[0m \u001b[0mright\u001b[0m\u001b[1;33m)\u001b[0m\u001b[1;33m\u001b[0m\u001b[0m\n\u001b[0m\u001b[0;32m   1099\u001b[0m     \u001b[1;32mexcept\u001b[0m \u001b[0mNullFrequencyError\u001b[0m\u001b[1;33m:\u001b[0m\u001b[1;33m\u001b[0m\u001b[0m\n\u001b[0;32m   1100\u001b[0m         \u001b[1;31m# DatetimeIndex and TimedeltaIndex with freq == None raise ValueError\u001b[0m\u001b[1;33m\u001b[0m\u001b[1;33m\u001b[0m\u001b[0m\n",
      "\u001b[1;32m~\\Anaconda3\\lib\\site-packages\\pandas\\core\\indexes\\datetimes.py\u001b[0m in \u001b[0;36mwrapper\u001b[1;34m(self, other)\u001b[0m\n\u001b[0;32m    131\u001b[0m                     \u001b[1;32mreturn\u001b[0m \u001b[0mnp\u001b[0m\u001b[1;33m.\u001b[0m\u001b[0mones\u001b[0m\u001b[1;33m(\u001b[0m\u001b[0mshape\u001b[0m\u001b[1;33m=\u001b[0m\u001b[0mself\u001b[0m\u001b[1;33m.\u001b[0m\u001b[0mshape\u001b[0m\u001b[1;33m,\u001b[0m \u001b[0mdtype\u001b[0m\u001b[1;33m=\u001b[0m\u001b[0mbool\u001b[0m\u001b[1;33m)\u001b[0m\u001b[1;33m\u001b[0m\u001b[0m\n\u001b[0;32m    132\u001b[0m                 raise TypeError('%s type object %s' %\n\u001b[1;32m--> 133\u001b[1;33m                                 (type(other), str(other)))\n\u001b[0m\u001b[0;32m    134\u001b[0m \u001b[1;33m\u001b[0m\u001b[0m\n\u001b[0;32m    135\u001b[0m             \u001b[1;32mif\u001b[0m \u001b[0mis_datetimelike\u001b[0m\u001b[1;33m(\u001b[0m\u001b[0mother\u001b[0m\u001b[1;33m)\u001b[0m\u001b[1;33m:\u001b[0m\u001b[1;33m\u001b[0m\u001b[0m\n",
      "\u001b[1;31mTypeError\u001b[0m: <class 'int'> type object 735842"
     ]
    }
   ],
   "source": [
    "totalDF = read_csv(\"Backtest VALUES 2020.csv\",index_col='DATE',parse_dates=True)\n",
    "\n",
    "totalDF = totalDF.sort_index()\n",
    "\n",
    "#drop any rows without a date\n",
    "totalDF.dropna(axis='index',how='any',inplace=True)\n",
    "\n",
    "#Define starting date to begin df with\n",
    "startDate = to_datetime('2015-09-01')\n",
    "startDate=startDate.toordinal()\n",
    "\n",
    "#Cut totalDF based on DateTime range\n",
    "totalDF['ordinalTime']=totalDF.index\n",
    "print(totalDF['ordinalTime'])\n",
    "#totalDF['ordinalTime'] = totalDF['ordinalTime'].apply(date.toordinal)\n",
    "totalDF['ordinalTime'] = totalDF['ordinalTime'].apply(lambda x: x.toordinal())\n",
    "print(totalDF['ordinalTime'])\n",
    "#mismatched type in condition.  The above date.toordinal is not being properly applied.\n",
    "totalDF = totalDF.loc[totalDF['ordinalTime']>=startDate]\n",
    "\n",
    "display(totalDF)\n",
    "\n",
    "#Create set of all of the dates contained in totalDF\n",
    "datesList = sorted(set(totalDF.index))\n",
    "sectors = sorted(set(totalDF.GICS_SECTOR_NAME.unique()))"
   ]
  },
  {
   "cell_type": "markdown",
   "metadata": {},
   "source": [
    "### getRanges method\n",
    "\n",
    "The getRanges method returns a list of ranges, one for each metric, for that specific sector.  A range has a low value, high value, and step value (incrementation value).  While this code is visually unappealing, it's relatively practical. \n",
    "\n",
    "It is worth noting that we take ranges from the 25th percentile to the 75th percentile (the middle section of a normal distribution.  If you're unsure what a normal distribution looks like and why we chose these percentages, I suggest researching these so that you have a better understanding of the statistics behind this).  The companies in the top 25% for a metric may be outliers or overvalued based on that number, and the companies in the lower 25% may be underperforming.  \n",
    "\n",
    "It is also worth noting the step values.  These are generally safe bets for typical output to create a reasonable number of frames.  Remember, runtime is **_exponential_**.*  One of our current tasks for improving the model is to develop an algorithm to calculate the step value; for example if the range starts at 20 and goes up to 120, a step of 10 has 12 potential frame values, while a step value of 5 has 24.  The fewer frame values we have, the more quickly the code will run; too large of a step value, and we may be distorting the accuracy of the backtest.\n",
    "\n",
    "First, we have to import the data again as an excel sheet.  This is due to some conflicts with \"None\" values as read by a CSV file.  We then sort the data by date and group the rows by sector.\n",
    "\n",
    "We then define a function which gets the appropriate data for each metric and returns the ranges as a tuple."
   ]
  },
  {
   "cell_type": "code",
   "execution_count": 30,
   "metadata": {},
   "outputs": [
    {
     "name": "stdout",
     "output_type": "stream",
     "text": [
      "range(13, 18, 2)\n",
      "3\n"
     ]
    }
   ],
   "source": [
    "#Using the same CSV file creates issues with the slice(None) function\n",
    "#Try to fix this .xlsx issue wher it doesn't allow slicing\n",
    "totalDF_ranges = pd.read_excel(\"Backtest VALUES 2020.xlsx\", index_col=[0,1])\n",
    "totalDF_ranges = totalDF_ranges.sort_index()\n",
    "totalDF_ranges.groupby('GICS_SECTOR_NAME').nunique()\n",
    "\n",
    "#Unlike typical range functions, the step value must be listed, even if it is 1\n",
    "#This function calculates and returns the normal range given the sector, metric, and step\n",
    "def getNormal(metric, step):\n",
    "    return range(int(round(np.percentile(totalDF_ranges.loc[(slice(None), sector), metric].dropna(), 34))), \\\n",
    "                     int(round(np.percentile(totalDF_ranges.loc[(slice(None), sector), metric].dropna(), 68))), step)\n",
    "\n",
    "def getRanges():\n",
    "    #define these values as global so that we can use them in other functions\n",
    "    global peRange, pbRange, epsRange, deRange, fcfRange, roeRange, roaRange\n",
    "    \n",
    "    peRange =  getNormal('PE_RATIO', 2)\n",
    "    pbRange =  getNormal('PX_TO_BOOK_RATIO', 1)\n",
    "    epsRange =  getNormal('TRAIL_12M_EPS', 2)\n",
    "    deRange =  getNormal('TOT_DEBT_TO_TOT_EQY', 10)\n",
    "    fcfRange =  getNormal('TOT_DEBT_TO_TOT_EQY', 5)\n",
    "    roeRange =  getNormal('RETURN_COM_EQY', 2)\n",
    "    roaRange =  getNormal('RETURN_ON_ASSET', 2)"
   ]
  },
  {
   "cell_type": "markdown",
   "metadata": {},
   "source": [
    "#  \n",
    "#  \n",
    "# Step 2: Function Definitions"
   ]
  },
  {
   "cell_type": "markdown",
   "metadata": {},
   "source": [
    "### Output functions\n",
    "\n",
    "The backtest prints out three sheets as output.\n",
    "\n",
    "SectorNameIndPortPeriodDate is a sheet showing hypothetical groupings of companies, per quarter, which fit each frame.  It gives the data for each of these companies during that quarter.  This is the largest sheet; the number of frames times the number of quarters = the number of rows in this spreadsheet. \n",
    "\n",
    "SectorNameIndividualPortfoliosDate takes the same data and displays it without showing each individual company in each test.  It shows the results of how each frame performed each quarter.\n",
    "\n",
    "SectorNameTotalPortfolioDate prints out the ultimate performance of each frame's average performance over time.  This is ordered by Treynor ratio, so the best frame (highest Treynor ratio) will be the first line."
   ]
  },
  {
   "cell_type": "code",
   "execution_count": 9,
   "metadata": {},
   "outputs": [],
   "source": [
    "#Establishing the date now prevents an error where if the backtest is running and the time turns \n",
    "#midnight, it is unable to write to the correct files because the date has changed\n",
    "now = time.strftime(\"d%dm%my%Y\")\n",
    "#Function to output every indivdual portfolio inside each period\n",
    "def outputIndPeriod(portfolioDF, date):\n",
    "        portfolioDF.to_csv(\"results/\"+sector+\"IndPortPeriod\"+now+\".csv\", mode='a')\n",
    "        \n",
    "#output each portfolio with dates\n",
    "def outputIndPort(portSummaryDF, frame):\n",
    "    portSummaryDF.to_csv(\"results/\"+sector+\"_PortfolioAvgsPerPeriod\"+now+\".csv\", \\\n",
    "                  mode='a',index_label=(\"T\"+str(frame[0])+str(frame[1])+str(frame[2])+str(frame[3])\\\n",
    "                        +str(frame[4])+str(frame[5])+str(frame[6])))\n",
    "\n",
    "#Output total portfolio with parameters\n",
    "def outputTotalPort(dfTotalPort, frame):\n",
    "    dfTotalPort.to_csv(\"results/\"+sector+\"TotalPortfolio\"+now+\".csv\", mode='w',index_label=(\"T\"+\"Portfolio\"))\n",
    "    "
   ]
  },
  {
   "cell_type": "markdown",
   "metadata": {},
   "source": [
    "### Calculate Portfolios\n",
    "\n",
    "To understand this function, it's also important to understand the Cartesian product and the prod function.\n",
    "\n",
    "Let's look at the function definition.  The datesList comes from way down below; we basically create a list of all of the dates in our data.  \"Params\" comes from the prod function; it contains a frame, which is a list containing a hypothetical value for each metric.  Sect is simply the name of the sector.  Params, or the frame values, only changes when the calculatePortLoop is called from the loop in the prod() function.\n",
    "\n",
    "The for loop is based around our dates list.  For each date (which equates each quarter), we want to do the following:\n",
    "\n",
    "1. Take all data pertaining to that date/quarter and create a new dataframe (df.\n",
    "2. Format the dataframe based on our metrics and insert the frame values.\n",
    "3. Score whether or not the actual data is at least as good as the frame value.  This is listed as a TRUE or FALSE value.\n",
    "4. Calculate the HSF score. This counts the number of TRUE values from the last step and adds the adjusted beta, which has been divided by 1000 so as not to disrupt the innate value of the HSF score.\n",
    "5. An identifying tag is established for each frame.  The frame value is used to generate this tag.  This is sort of like an SKU code used in retail.\n",
    "6. The dataframe is sorted by highest HSF Score and the top 5 companies are selected.  These are added to the SectorNameIndPortPeriodDate.csv file.\n",
    "\n",
    "\n",
    "7. The tested frame values are added to the portSummaryDF dataframe, which is established much further below.  The highest HSF score, as well as the average return and average adjusted beta, are also added to this dataframe.  \n",
    "8. The average return and beta are then used to calculate a Treynor ratio; basically, this represents risk vs. return for those top 5 HSF scoring companies for the frame and date. \n",
    "9. The frame is also added, formatted as a list like (0, 1, 2, etc).  portSummaryDF is then returned (to the prod() function)."
   ]
  },
  {
   "cell_type": "code",
   "execution_count": 10,
   "metadata": {},
   "outputs": [],
   "source": [
    "#This function creates a unique identifier using frame values\n",
    "def createIdentifier(frame):\n",
    "    name = \"T\"\n",
    "    for p in frame:\n",
    "        name+=str(p)\n",
    "    return name"
   ]
  },
  {
   "cell_type": "code",
   "execution_count": 25,
   "metadata": {},
   "outputs": [],
   "source": [
    "#Function to loop through every date and output an individual portfolio\n",
    "def calculatePortLoop(dateList, frame, identity):\n",
    "    \n",
    "    #Go through the dates list.  frame will remain the same through the for loop, and only changes when this function\n",
    "    #is called again from the prod() function.\n",
    "    for date in datesList:\n",
    "        \n",
    "        #create a dataframe based on the date\n",
    "        portfolioDF = sectorDF.loc[sectorDF.index==date]\n",
    "        \n",
    "        #Adds the values of the frame to the dataframe\n",
    "        for x in range(7):\n",
    "            portfolioDF[dfTests[x]] = frame[x]\n",
    "        \n",
    "        #Scores whether or not the value for each metric is at least as good as the frame value\n",
    "        for x in range(7):\n",
    "            if metrics[x] in lvhs_metrics:\n",
    "                portfolioDF[dfScores[x]] = portfolioDF[metrics[x]] < frame[x]\n",
    "            else:\n",
    "                portfolioDF[dfScores[x]] = portfolioDF[metrics[x]] > frame[x]\n",
    "        \n",
    "        #Re-calculate beta score so that we can add it to the HSF score\n",
    "        portfolioDF['betaScore']=1/(portfolioDF['ADJUSTED_BETA']*1000)\n",
    "        #Calculate HSF score\n",
    "        portfolioDF['hsfScore'] = None\n",
    "        for x in range(7):\n",
    "            portfolioDF['hsfScore']=testDF['hsfScore']+testDF[dfScores[x]].astype(int)\n",
    "            \n",
    "        display(testDF['hsfScore'])\n",
    "        display(portfolioDF['hsfScore'])\n",
    "        \n",
    "            \n",
    "        #Creates an identifier for each frame based on the frame values\n",
    "        portfolioDF['ind'] = identity\n",
    "        \n",
    "        #Sorts the dataframe by highest HSF score\n",
    "        portfolioDF.sort_values(by='hsfScore',ascending=False,inplace=True)\n",
    "        #Add only the 5 companies with the highest HSF score to the dataframe.\n",
    "        portfolioDF=portfolioDF.iloc[0:5]\n",
    "        \n",
    "        #Print to the SectorNameIndPortPeriodDate.csv file.  This happens each time we go through the loop\n",
    "        if iperiods:\n",
    "            outputIndPeriod(portfolioDF, date)\n",
    "        \n",
    "        #portSummaryDF is for SectorName_PortfolioAvgsPerPeriod.csv\n",
    "        for t in dfTests:\n",
    "            portSummaryDF.loc[portSummaryDF.index==date, t] = portfolioDF.ix[0, t]\n",
    "        \n",
    "        portSummaryDF.loc[portSummaryDF.index==date,'maxHSFScore'] = portfolioDF['hsfScore'].max()\n",
    "        #Finds the average return and adjusted beta of the five companies.\n",
    "        portSummaryDF.loc[portSummaryDF.index==date,'return'] = (portfolioDF['RETURN'].mean())\n",
    "        #Average beta is calculated.  It's possible to have the average come out to zero, which gives us an error\n",
    "        #later when calculating the Treynor ratio.  I.E., we add a very small amount to prevent this issue with minimal\n",
    "        #statistical impact\n",
    "        portSummaryDF.loc[portSummaryDF.index==date,'beta'] = (portfolioDF['ADJUSTED_BETA'].mean()+0.0000001)\n",
    "\n",
    "        \n",
    "    #Calculate a Treynor ratio for the portSummaryDF dataframe\n",
    "    portSummaryDF['treynor']=(portSummaryDF['return']-TBill3Mth)/portSummaryDF['beta']\n",
    "    #Adds the frame in list formatting to the portSummaryDF dataframe\n",
    "    portSummaryDF['ind'] = identity\n",
    "\n",
    "    return portSummaryDF"
   ]
  },
  {
   "cell_type": "markdown",
   "metadata": {},
   "source": [
    "### Cartesian Product\n",
    "\n",
    "Now, we'll look at the Cartesian product.  This is where things get slightly more mathematical, and where we can fully grasp the importance of efficiency.  \n",
    "\n",
    "The only argument of the prod() function is the sector name, and this is just to pass to other functions which need that name to create our .csv files.\n",
    "\n",
    "This for loop is the heart of our backtest.  Keep in mind that in python, a function can be called in the for loop if it returns a list which can be traversed.  In this case, that function is the product() function; more specifically, this creates a Cartesian product.  From thefreedictionary.com:\n",
    "\n",
    "    A cartesian product is \"the set of all ordered pairs of members of two given sets. The product A × B is the set of all pairs <a, b> where a is a member of A and b is a member of B.\"\n",
    "    \n",
    "Think of it like this.  Say we have two sets of numbers, A and B.  Say that A has the values (1, 2, 3) and B has the values (4, 5, 6).  A cartesian product between A and B would produce  all of these possible sets:\n",
    "\n",
    "(1, 4)\n",
    "(1, 5)\n",
    "(1, 6)\n",
    "(2, 4)\n",
    "(2, 5)\n",
    "(2, 6)\n",
    "(3, 4)\n",
    "(3, 5)\n",
    "(3, 6)\n",
    "\n",
    "Each number from A is combined with each number from B.  Note that the number of possible sets is equal to the number of values in A times the number of values in B: 3 x 3 = 9.  If B had four numbers, there would be 3 x 4 = 12 possible combinations, and so forth and so on.  Now consider how this works with our ranges; an example for the number of values in each range is below:\n",
    "\n",
    "    peRange = 4 possible values\n",
    "\n",
    "    pbRange = 5 possible values\n",
    "\n",
    "    epsRange = 6 possible values\n",
    "\n",
    "    deRange = 4 **\n",
    "\n",
    "    fcfRange = 4 **\n",
    "\n",
    "    roeRange = 4 **\n",
    "\n",
    "    roaRange = 3 **\n",
    "\n",
    "\n",
    "4 x 5 x 6 x 4 x 4 x 4 x 3 = 23,040 possible combinations.  This is the number of frames that the for loop would have to run through.  Say that roaRange changed from 3 to 4; this would give us 30,720 combinations.  As you can see, the ranges create an exponentially large set of combinations; this is why the backtest takes so long to run, and why efficiency is so important.\n",
    "\n",
    "So how does the rest of the function work?  \n",
    "\n",
    "1. The for loop takes a single frame from the cartesian product and calls the calculatePortLoop function from above.  As we know, this adds data to the SectorNameIndPortPeriodDate.csv file and to the portSummaryDF dataframe.\n",
    "2. dfTotalPort is the dataframe to show the final results.  We calculate the average return for the frame over time as well as the average beta, and insert these into the dfTotalPort dataframe.\n",
    "3. The frame values are copied into dfTotalPort.\n",
    "4. The SectorNameIndividualPortfoliosDate.csv is printed to using the portSummaryDF dataframe.\n",
    "5. The loop continues to do this for each frame.\n",
    "6. After the loop has finished, the total Treynor for each frame is calculated using the average beta and average return for each frame over time, as well as risk-free rate.  This data is added to the dfTotalPort dataframe.\n",
    "7. The dfTotalPort dataframe is then sorted by Treynor ratio, with the highest Treynors appearing at the top. Keep in mind that Treynor ratio shows return vs. risk.  Higher Treynor values are considered better, so the first Treynor listed on this sheet will be for the best frame.\n",
    "8. Similar to above, identifying tags are again generated for each frame.  They match the format as in the last function.\n",
    "9.  outputTotalPort is called, allowing for us to print out the SectorNameTotalPortfolioDate.csv file."
   ]
  },
  {
   "cell_type": "code",
   "execution_count": 26,
   "metadata": {},
   "outputs": [],
   "source": [
    "def prod():\n",
    "    \n",
    "    #df, portSummaryDF, dfTotalPort\n",
    "    for frame in product(peRange, pbRange, epsRange, deRange, fcfRange, roeRange, roaRange):\n",
    "        identifier = createIdentifier(frame)\n",
    "        #Calculate portfolios\n",
    "        calculatePortLoop(datesList, frame, identifier)\n",
    "        #Average return for the frame over time\n",
    "        dfTotalPort.loc[dfTotalPort['ind']==frame,'meanReturn'] = portSummaryDF['return'].mean()\n",
    "        #Average Beta for the frame over time\n",
    "        dfTotalPort.loc[dfTotalPort['ind']==frame,'meanBeta'] = portSummaryDF['beta'].mean()\n",
    "        #Repeats the frame values into the dataframe\n",
    "        for x in range(7):\n",
    "            dfTotalPort.loc[dfTotalPort['ind']==frame, dfTests[x]] = frame[x]\n",
    "        \n",
    "        #print(portSummaryDF)\n",
    "        if iports:\n",
    "            outputIndPort(portSummaryDF, frame)\n",
    "        \n",
    "    #Calculate Treynor\n",
    "    dfTotalPort['totalTreynor']=(dfTotalPort['meanReturn']-dfTotalPort['tBill3Mth'])/dfTotalPort['meanBeta']\n",
    "    #Sort by Treynor\n",
    "    dfTotalPort.sort_values('totalTreynor',ascending=False, inplace=True)\n",
    "    #Creates an identifying string using the values of the frame\n",
    "    dfTotalPort.set_index(\"T\"+dfTotalPort['peTest'].map(str) + dfTotalPort['pbTest'].map(str) +\\\n",
    "                      dfTotalPort['epsTest'].map(str) + dfTotalPort['deTest'].map(str) +\\\n",
    "                      dfTotalPort['fcfTest'].map(str) + dfTotalPort['roeTest'].map(str) +\\\n",
    "                      dfTotalPort['roaTest'].map(str), inplace = True)\n",
    "    \n",
    "    #Print to CSV file\n",
    "    outputTotalPort(dfTotalPort, frame)"
   ]
  },
  {
   "cell_type": "markdown",
   "metadata": {},
   "source": [
    "#  \n",
    "#  \n",
    "# Step 3: Naming sector, Producing Output Per Sector"
   ]
  },
  {
   "cell_type": "markdown",
   "metadata": {},
   "source": [
    "There are two functions below.  The first runs the backtest for a single sector.  The second runs the backtest for every sector.\n",
    "\n",
    "We first name a sector.  The ranges for this sector are then generated by calling the getRanges(sector) function, which returns a tuple containing each range.\n",
    "\n",
    "A new dataframe, sectorDF, is created.  It takes all of the data from totalDF that pertains to companies in the defined sector.\n",
    "\n",
    "The output dataframes are initialized as empty.  portSummaryDF will be used for the SectorNameIndividualPortfoliosDate.csv file, and dfTotalPort will be used for the SectorNameTotalPortfolioDate.csv file, as explained above.\n",
    "\n",
    "Finally, the prod() function is called.  This will run the Cartesian product and all of the output functions, printing all of the necessary data to our csv files."
   ]
  },
  {
   "cell_type": "code",
   "execution_count": 27,
   "metadata": {},
   "outputs": [],
   "source": [
    "def runSingleSector(sectorChosen, tbill, libor, IndPortfolios, IndPeriods):\n",
    "\n",
    "    global sector\n",
    "    sector = sectorChosen\n",
    "    \n",
    "    getRanges()\n",
    "\n",
    "    #Define sectorDF for use in other functions\n",
    "    global sectorDF\n",
    "    sectorDF = totalDF.loc[totalDF['GICS_SECTOR_NAME']==sector]\n",
    "    \n",
    "    #Define the risk-free rates\n",
    "    global TBill3Mth\n",
    "    TBill3Mth = tbill/100\n",
    "    global Libor3Mth\n",
    "    Libor3Mth = libor/100\n",
    "    \n",
    "    #Define whether or not we want excel sheets containing individual portfolio models and periodic models\n",
    "    global iports\n",
    "    iports = IndPortfolios\n",
    "    global iperiods\n",
    "    iperiods = IndPeriods\n",
    "    \n",
    "    #Create new Output DF for portfolios for dates\n",
    "    global portSummaryDF\n",
    "    portSummaryDF = pd.DataFrame([],index=datesList)\n",
    "    portSummaryDF['return']=None\n",
    "    portSummaryDF['beta']=None\n",
    "    portSummaryDF['tBill3Mth']=TBill3Mth\n",
    "    portSummaryDF['treynor']=None\n",
    "    for x in range(7):\n",
    "            portSummaryDF[dfTests[x]] = None\n",
    "    portSummaryDF['maxHSFScore']=None\n",
    "\n",
    "    #Create new Output DF for total portfolios\n",
    "    global dfTotalPort\n",
    "    dfTotalPort = pd.DataFrame([])\n",
    "    #assign product function to local variable\n",
    "    dfTotalPort['ind']=list(product(peRange,pbRange,epsRange,deRange,fcfRange,roeRange,roaRange))\n",
    "    dfTotalPort['meanReturn']=None\n",
    "    dfTotalPort['meanBeta']=None\n",
    "    dfTotalPort['tBill3Mth']=TBill3Mth\n",
    "    dfTotalPort['totalTreynor']=None\n",
    "    for x in range(7):\n",
    "            dfTotalPort[dfTests[x]] = None\n",
    "\n",
    "    #Call the prod() function\n",
    "    prod()"
   ]
  },
  {
   "cell_type": "markdown",
   "metadata": {},
   "source": [
    "#  \n",
    "#  \n",
    "# Function Calls and Runtime\n",
    "\n",
    "The following calls the desired function and calculates runtime.  In order to call the function, we have to put in our Risk-Free rates (T-Bill 3-month average and Libor 3-month average) in order to run the function.  These change regularly, so they should be checked each time the model is run."
   ]
  },
  {
   "cell_type": "code",
   "execution_count": 28,
   "metadata": {
    "scrolled": true
   },
   "outputs": [
    {
     "data": {
      "text/plain": [
       "DATE\n",
       "2014-06-01    0\n",
       "2014-06-01    3\n",
       "2014-06-01    3\n",
       "Name: hsfScore, dtype: int32"
      ]
     },
     "metadata": {},
     "output_type": "display_data"
    },
    {
     "data": {
      "text/plain": [
       "DATE\n",
       "2014-06-01    0\n",
       "2014-06-01    3\n",
       "2014-06-01    3\n",
       "Name: hsfScore, dtype: int32"
      ]
     },
     "metadata": {},
     "output_type": "display_data"
    },
    {
     "name": "stderr",
     "output_type": "stream",
     "text": [
      "C:\\Users\\2rtma\\Anaconda3\\lib\\site-packages\\ipykernel_launcher.py:53: DeprecationWarning: \n",
      ".ix is deprecated. Please use\n",
      ".loc for label based indexing or\n",
      ".iloc for positional indexing\n",
      "\n",
      "See the documentation here:\n",
      "http://pandas.pydata.org/pandas-docs/stable/indexing.html#ix-indexer-is-deprecated\n"
     ]
    },
    {
     "data": {
      "text/plain": [
       "DATE\n",
       "2014-09-01    0\n",
       "2014-09-01    3\n",
       "2014-09-01    3\n",
       "Name: hsfScore, dtype: int32"
      ]
     },
     "metadata": {},
     "output_type": "display_data"
    },
    {
     "data": {
      "text/plain": [
       "DATE\n",
       "2014-09-01    0\n",
       "2014-09-01    3\n",
       "2014-09-01    3\n",
       "Name: hsfScore, dtype: int32"
      ]
     },
     "metadata": {},
     "output_type": "display_data"
    },
    {
     "data": {
      "text/plain": [
       "DATE\n",
       "2014-12-01    0\n",
       "2014-12-01    3\n",
       "2014-12-01    3\n",
       "Name: hsfScore, dtype: int32"
      ]
     },
     "metadata": {},
     "output_type": "display_data"
    },
    {
     "data": {
      "text/plain": [
       "DATE\n",
       "2014-12-01    0\n",
       "2014-12-01    3\n",
       "2014-12-01    3\n",
       "Name: hsfScore, dtype: int32"
      ]
     },
     "metadata": {},
     "output_type": "display_data"
    },
    {
     "data": {
      "text/plain": [
       "DATE\n",
       "2015-03-01    3\n",
       "2015-03-01    3\n",
       "2015-03-01    0\n",
       "Name: hsfScore, dtype: int32"
      ]
     },
     "metadata": {},
     "output_type": "display_data"
    },
    {
     "data": {
      "text/plain": [
       "DATE\n",
       "2015-03-01    3\n",
       "2015-03-01    3\n",
       "2015-03-01    0\n",
       "Name: hsfScore, dtype: int32"
      ]
     },
     "metadata": {},
     "output_type": "display_data"
    },
    {
     "data": {
      "text/plain": [
       "DATE\n",
       "2015-06-01    0\n",
       "2015-06-01    2\n",
       "2015-06-01    4\n",
       "Name: hsfScore, dtype: int32"
      ]
     },
     "metadata": {},
     "output_type": "display_data"
    },
    {
     "data": {
      "text/plain": [
       "DATE\n",
       "2015-06-01    0\n",
       "2015-06-01    2\n",
       "2015-06-01    4\n",
       "Name: hsfScore, dtype: int32"
      ]
     },
     "metadata": {},
     "output_type": "display_data"
    },
    {
     "data": {
      "text/plain": [
       "DATE\n",
       "2015-09-01    1\n",
       "2015-09-01    1\n",
       "2015-09-01    4\n",
       "Name: hsfScore, dtype: int32"
      ]
     },
     "metadata": {},
     "output_type": "display_data"
    },
    {
     "data": {
      "text/plain": [
       "DATE\n",
       "2015-09-01    1\n",
       "2015-09-01    1\n",
       "2015-09-01    4\n",
       "Name: hsfScore, dtype: int32"
      ]
     },
     "metadata": {},
     "output_type": "display_data"
    },
    {
     "data": {
      "text/plain": [
       "DATE\n",
       "2015-12-01    2\n",
       "2015-12-01    3\n",
       "2015-12-01    4\n",
       "Name: hsfScore, dtype: int32"
      ]
     },
     "metadata": {},
     "output_type": "display_data"
    },
    {
     "data": {
      "text/plain": [
       "DATE\n",
       "2015-12-01    2\n",
       "2015-12-01    3\n",
       "2015-12-01    4\n",
       "Name: hsfScore, dtype: int32"
      ]
     },
     "metadata": {},
     "output_type": "display_data"
    },
    {
     "data": {
      "text/plain": [
       "DATE\n",
       "2016-03-01    3\n",
       "2016-03-01    3\n",
       "2016-03-01    1\n",
       "Name: hsfScore, dtype: int32"
      ]
     },
     "metadata": {},
     "output_type": "display_data"
    },
    {
     "data": {
      "text/plain": [
       "DATE\n",
       "2016-03-01    3\n",
       "2016-03-01    3\n",
       "2016-03-01    1\n",
       "Name: hsfScore, dtype: int32"
      ]
     },
     "metadata": {},
     "output_type": "display_data"
    },
    {
     "data": {
      "text/plain": [
       "DATE\n",
       "2016-06-01    2\n",
       "2016-06-01    3\n",
       "2016-06-01    3\n",
       "Name: hsfScore, dtype: int32"
      ]
     },
     "metadata": {},
     "output_type": "display_data"
    },
    {
     "data": {
      "text/plain": [
       "DATE\n",
       "2016-06-01    2\n",
       "2016-06-01    3\n",
       "2016-06-01    3\n",
       "Name: hsfScore, dtype: int32"
      ]
     },
     "metadata": {},
     "output_type": "display_data"
    },
    {
     "data": {
      "text/plain": [
       "DATE\n",
       "2016-09-01    3\n",
       "2016-09-01    3\n",
       "2016-09-01    1\n",
       "Name: hsfScore, dtype: int32"
      ]
     },
     "metadata": {},
     "output_type": "display_data"
    },
    {
     "data": {
      "text/plain": [
       "DATE\n",
       "2016-09-01    3\n",
       "2016-09-01    3\n",
       "2016-09-01    1\n",
       "Name: hsfScore, dtype: int32"
      ]
     },
     "metadata": {},
     "output_type": "display_data"
    },
    {
     "data": {
      "text/plain": [
       "DATE\n",
       "2016-12-01    1\n",
       "2016-12-01    3\n",
       "2016-12-01    3\n",
       "Name: hsfScore, dtype: int32"
      ]
     },
     "metadata": {},
     "output_type": "display_data"
    },
    {
     "data": {
      "text/plain": [
       "DATE\n",
       "2016-12-01    1\n",
       "2016-12-01    3\n",
       "2016-12-01    3\n",
       "Name: hsfScore, dtype: int32"
      ]
     },
     "metadata": {},
     "output_type": "display_data"
    },
    {
     "data": {
      "text/plain": [
       "DATE\n",
       "2017-03-01    1\n",
       "2017-03-01    3\n",
       "2017-03-01    3\n",
       "Name: hsfScore, dtype: int32"
      ]
     },
     "metadata": {},
     "output_type": "display_data"
    },
    {
     "data": {
      "text/plain": [
       "DATE\n",
       "2017-03-01    1\n",
       "2017-03-01    3\n",
       "2017-03-01    3\n",
       "Name: hsfScore, dtype: int32"
      ]
     },
     "metadata": {},
     "output_type": "display_data"
    },
    {
     "data": {
      "text/plain": [
       "DATE\n",
       "2017-06-01    0\n",
       "2017-06-01    3\n",
       "2017-06-01    5\n",
       "Name: hsfScore, dtype: int32"
      ]
     },
     "metadata": {},
     "output_type": "display_data"
    },
    {
     "data": {
      "text/plain": [
       "DATE\n",
       "2017-06-01    0\n",
       "2017-06-01    3\n",
       "2017-06-01    5\n",
       "Name: hsfScore, dtype: int32"
      ]
     },
     "metadata": {},
     "output_type": "display_data"
    },
    {
     "data": {
      "text/plain": [
       "DATE\n",
       "2017-09-01    1\n",
       "2017-09-01    3\n",
       "2017-09-01    3\n",
       "Name: hsfScore, dtype: int32"
      ]
     },
     "metadata": {},
     "output_type": "display_data"
    },
    {
     "data": {
      "text/plain": [
       "DATE\n",
       "2017-09-01    1\n",
       "2017-09-01    3\n",
       "2017-09-01    3\n",
       "Name: hsfScore, dtype: int32"
      ]
     },
     "metadata": {},
     "output_type": "display_data"
    },
    {
     "data": {
      "text/plain": [
       "DATE\n",
       "2017-12-01    3\n",
       "2017-12-01    3\n",
       "2017-12-01    3\n",
       "Name: hsfScore, dtype: int32"
      ]
     },
     "metadata": {},
     "output_type": "display_data"
    },
    {
     "data": {
      "text/plain": [
       "DATE\n",
       "2017-12-01    3\n",
       "2017-12-01    3\n",
       "2017-12-01    3\n",
       "Name: hsfScore, dtype: int32"
      ]
     },
     "metadata": {},
     "output_type": "display_data"
    },
    {
     "data": {
      "text/plain": [
       "DATE\n",
       "2014-06-01    0\n",
       "2014-06-01    3\n",
       "2014-06-01    3\n",
       "Name: hsfScore, dtype: int32"
      ]
     },
     "metadata": {},
     "output_type": "display_data"
    },
    {
     "data": {
      "text/plain": [
       "DATE\n",
       "2014-06-01    0\n",
       "2014-06-01    3\n",
       "2014-06-01    3\n",
       "Name: hsfScore, dtype: int32"
      ]
     },
     "metadata": {},
     "output_type": "display_data"
    },
    {
     "data": {
      "text/plain": [
       "DATE\n",
       "2014-09-01    0\n",
       "2014-09-01    3\n",
       "2014-09-01    3\n",
       "Name: hsfScore, dtype: int32"
      ]
     },
     "metadata": {},
     "output_type": "display_data"
    },
    {
     "data": {
      "text/plain": [
       "DATE\n",
       "2014-09-01    0\n",
       "2014-09-01    3\n",
       "2014-09-01    3\n",
       "Name: hsfScore, dtype: int32"
      ]
     },
     "metadata": {},
     "output_type": "display_data"
    },
    {
     "data": {
      "text/plain": [
       "DATE\n",
       "2014-12-01    0\n",
       "2014-12-01    2\n",
       "2014-12-01    2\n",
       "Name: hsfScore, dtype: int32"
      ]
     },
     "metadata": {},
     "output_type": "display_data"
    },
    {
     "data": {
      "text/plain": [
       "DATE\n",
       "2014-12-01    0\n",
       "2014-12-01    2\n",
       "2014-12-01    2\n",
       "Name: hsfScore, dtype: int32"
      ]
     },
     "metadata": {},
     "output_type": "display_data"
    },
    {
     "data": {
      "text/plain": [
       "DATE\n",
       "2015-03-01    3\n",
       "2015-03-01    2\n",
       "2015-03-01    0\n",
       "Name: hsfScore, dtype: int32"
      ]
     },
     "metadata": {},
     "output_type": "display_data"
    },
    {
     "data": {
      "text/plain": [
       "DATE\n",
       "2015-03-01    3\n",
       "2015-03-01    2\n",
       "2015-03-01    0\n",
       "Name: hsfScore, dtype: int32"
      ]
     },
     "metadata": {},
     "output_type": "display_data"
    },
    {
     "data": {
      "text/plain": [
       "DATE\n",
       "2015-06-01    0\n",
       "2015-06-01    2\n",
       "2015-06-01    4\n",
       "Name: hsfScore, dtype: int32"
      ]
     },
     "metadata": {},
     "output_type": "display_data"
    },
    {
     "data": {
      "text/plain": [
       "DATE\n",
       "2015-06-01    0\n",
       "2015-06-01    2\n",
       "2015-06-01    4\n",
       "Name: hsfScore, dtype: int32"
      ]
     },
     "metadata": {},
     "output_type": "display_data"
    },
    {
     "data": {
      "text/plain": [
       "DATE\n",
       "2015-09-01    1\n",
       "2015-09-01    1\n",
       "2015-09-01    4\n",
       "Name: hsfScore, dtype: int32"
      ]
     },
     "metadata": {},
     "output_type": "display_data"
    },
    {
     "data": {
      "text/plain": [
       "DATE\n",
       "2015-09-01    1\n",
       "2015-09-01    1\n",
       "2015-09-01    4\n",
       "Name: hsfScore, dtype: int32"
      ]
     },
     "metadata": {},
     "output_type": "display_data"
    },
    {
     "data": {
      "text/plain": [
       "DATE\n",
       "2015-12-01    2\n",
       "2015-12-01    2\n",
       "2015-12-01    4\n",
       "Name: hsfScore, dtype: int32"
      ]
     },
     "metadata": {},
     "output_type": "display_data"
    },
    {
     "data": {
      "text/plain": [
       "DATE\n",
       "2015-12-01    2\n",
       "2015-12-01    2\n",
       "2015-12-01    4\n",
       "Name: hsfScore, dtype: int32"
      ]
     },
     "metadata": {},
     "output_type": "display_data"
    },
    {
     "data": {
      "text/plain": [
       "DATE\n",
       "2016-03-01    3\n",
       "2016-03-01    2\n",
       "2016-03-01    1\n",
       "Name: hsfScore, dtype: int32"
      ]
     },
     "metadata": {},
     "output_type": "display_data"
    },
    {
     "data": {
      "text/plain": [
       "DATE\n",
       "2016-03-01    3\n",
       "2016-03-01    2\n",
       "2016-03-01    1\n",
       "Name: hsfScore, dtype: int32"
      ]
     },
     "metadata": {},
     "output_type": "display_data"
    },
    {
     "data": {
      "text/plain": [
       "DATE\n",
       "2016-06-01    1\n",
       "2016-06-01    2\n",
       "2016-06-01    3\n",
       "Name: hsfScore, dtype: int32"
      ]
     },
     "metadata": {},
     "output_type": "display_data"
    },
    {
     "data": {
      "text/plain": [
       "DATE\n",
       "2016-06-01    1\n",
       "2016-06-01    2\n",
       "2016-06-01    3\n",
       "Name: hsfScore, dtype: int32"
      ]
     },
     "metadata": {},
     "output_type": "display_data"
    },
    {
     "data": {
      "text/plain": [
       "DATE\n",
       "2016-09-01    3\n",
       "2016-09-01    2\n",
       "2016-09-01    1\n",
       "Name: hsfScore, dtype: int32"
      ]
     },
     "metadata": {},
     "output_type": "display_data"
    },
    {
     "data": {
      "text/plain": [
       "DATE\n",
       "2016-09-01    3\n",
       "2016-09-01    2\n",
       "2016-09-01    1\n",
       "Name: hsfScore, dtype: int32"
      ]
     },
     "metadata": {},
     "output_type": "display_data"
    },
    {
     "data": {
      "text/plain": [
       "DATE\n",
       "2016-12-01    1\n",
       "2016-12-01    2\n",
       "2016-12-01    3\n",
       "Name: hsfScore, dtype: int32"
      ]
     },
     "metadata": {},
     "output_type": "display_data"
    },
    {
     "data": {
      "text/plain": [
       "DATE\n",
       "2016-12-01    1\n",
       "2016-12-01    2\n",
       "2016-12-01    3\n",
       "Name: hsfScore, dtype: int32"
      ]
     },
     "metadata": {},
     "output_type": "display_data"
    },
    {
     "data": {
      "text/plain": [
       "DATE\n",
       "2017-03-01    1\n",
       "2017-03-01    2\n",
       "2017-03-01    3\n",
       "Name: hsfScore, dtype: int32"
      ]
     },
     "metadata": {},
     "output_type": "display_data"
    },
    {
     "data": {
      "text/plain": [
       "DATE\n",
       "2017-03-01    1\n",
       "2017-03-01    2\n",
       "2017-03-01    3\n",
       "Name: hsfScore, dtype: int32"
      ]
     },
     "metadata": {},
     "output_type": "display_data"
    },
    {
     "data": {
      "text/plain": [
       "DATE\n",
       "2017-06-01    0\n",
       "2017-06-01    2\n",
       "2017-06-01    5\n",
       "Name: hsfScore, dtype: int32"
      ]
     },
     "metadata": {},
     "output_type": "display_data"
    },
    {
     "data": {
      "text/plain": [
       "DATE\n",
       "2017-06-01    0\n",
       "2017-06-01    2\n",
       "2017-06-01    5\n",
       "Name: hsfScore, dtype: int32"
      ]
     },
     "metadata": {},
     "output_type": "display_data"
    },
    {
     "data": {
      "text/plain": [
       "DATE\n",
       "2017-09-01    1\n",
       "2017-09-01    2\n",
       "2017-09-01    3\n",
       "Name: hsfScore, dtype: int32"
      ]
     },
     "metadata": {},
     "output_type": "display_data"
    },
    {
     "data": {
      "text/plain": [
       "DATE\n",
       "2017-09-01    1\n",
       "2017-09-01    2\n",
       "2017-09-01    3\n",
       "Name: hsfScore, dtype: int32"
      ]
     },
     "metadata": {},
     "output_type": "display_data"
    },
    {
     "data": {
      "text/plain": [
       "DATE\n",
       "2017-12-01    2\n",
       "2017-12-01    3\n",
       "2017-12-01    3\n",
       "Name: hsfScore, dtype: int32"
      ]
     },
     "metadata": {},
     "output_type": "display_data"
    },
    {
     "data": {
      "text/plain": [
       "DATE\n",
       "2017-12-01    2\n",
       "2017-12-01    3\n",
       "2017-12-01    3\n",
       "Name: hsfScore, dtype: int32"
      ]
     },
     "metadata": {},
     "output_type": "display_data"
    },
    {
     "data": {
      "text/plain": [
       "DATE\n",
       "2014-06-01    0\n",
       "2014-06-01    3\n",
       "2014-06-01    3\n",
       "Name: hsfScore, dtype: int32"
      ]
     },
     "metadata": {},
     "output_type": "display_data"
    },
    {
     "data": {
      "text/plain": [
       "DATE\n",
       "2014-06-01    0\n",
       "2014-06-01    3\n",
       "2014-06-01    3\n",
       "Name: hsfScore, dtype: int32"
      ]
     },
     "metadata": {},
     "output_type": "display_data"
    },
    {
     "data": {
      "text/plain": [
       "DATE\n",
       "2014-09-01    0\n",
       "2014-09-01    3\n",
       "2014-09-01    3\n",
       "Name: hsfScore, dtype: int32"
      ]
     },
     "metadata": {},
     "output_type": "display_data"
    },
    {
     "data": {
      "text/plain": [
       "DATE\n",
       "2014-09-01    0\n",
       "2014-09-01    3\n",
       "2014-09-01    3\n",
       "Name: hsfScore, dtype: int32"
      ]
     },
     "metadata": {},
     "output_type": "display_data"
    },
    {
     "data": {
      "text/plain": [
       "DATE\n",
       "2014-12-01    0\n",
       "2014-12-01    3\n",
       "2014-12-01    3\n",
       "Name: hsfScore, dtype: int32"
      ]
     },
     "metadata": {},
     "output_type": "display_data"
    },
    {
     "data": {
      "text/plain": [
       "DATE\n",
       "2014-12-01    0\n",
       "2014-12-01    3\n",
       "2014-12-01    3\n",
       "Name: hsfScore, dtype: int32"
      ]
     },
     "metadata": {},
     "output_type": "display_data"
    },
    {
     "data": {
      "text/plain": [
       "DATE\n",
       "2015-03-01    3\n",
       "2015-03-01    2\n",
       "2015-03-01    0\n",
       "Name: hsfScore, dtype: int32"
      ]
     },
     "metadata": {},
     "output_type": "display_data"
    },
    {
     "data": {
      "text/plain": [
       "DATE\n",
       "2015-03-01    3\n",
       "2015-03-01    2\n",
       "2015-03-01    0\n",
       "Name: hsfScore, dtype: int32"
      ]
     },
     "metadata": {},
     "output_type": "display_data"
    },
    {
     "data": {
      "text/plain": [
       "DATE\n",
       "2015-06-01    0\n",
       "2015-06-01    1\n",
       "2015-06-01    4\n",
       "Name: hsfScore, dtype: int32"
      ]
     },
     "metadata": {},
     "output_type": "display_data"
    },
    {
     "data": {
      "text/plain": [
       "DATE\n",
       "2015-06-01    0\n",
       "2015-06-01    1\n",
       "2015-06-01    4\n",
       "Name: hsfScore, dtype: int32"
      ]
     },
     "metadata": {},
     "output_type": "display_data"
    },
    {
     "data": {
      "text/plain": [
       "DATE\n",
       "2015-09-01    1\n",
       "2015-09-01    1\n",
       "2015-09-01    4\n",
       "Name: hsfScore, dtype: int32"
      ]
     },
     "metadata": {},
     "output_type": "display_data"
    },
    {
     "data": {
      "text/plain": [
       "DATE\n",
       "2015-09-01    1\n",
       "2015-09-01    1\n",
       "2015-09-01    4\n",
       "Name: hsfScore, dtype: int32"
      ]
     },
     "metadata": {},
     "output_type": "display_data"
    },
    {
     "data": {
      "text/plain": [
       "DATE\n",
       "2015-12-01    1\n",
       "2015-12-01    3\n",
       "2015-12-01    4\n",
       "Name: hsfScore, dtype: int32"
      ]
     },
     "metadata": {},
     "output_type": "display_data"
    },
    {
     "data": {
      "text/plain": [
       "DATE\n",
       "2015-12-01    1\n",
       "2015-12-01    3\n",
       "2015-12-01    4\n",
       "Name: hsfScore, dtype: int32"
      ]
     },
     "metadata": {},
     "output_type": "display_data"
    },
    {
     "data": {
      "text/plain": [
       "DATE\n",
       "2016-03-01    3\n",
       "2016-03-01    3\n",
       "2016-03-01    0\n",
       "Name: hsfScore, dtype: int32"
      ]
     },
     "metadata": {},
     "output_type": "display_data"
    },
    {
     "data": {
      "text/plain": [
       "DATE\n",
       "2016-03-01    3\n",
       "2016-03-01    3\n",
       "2016-03-01    0\n",
       "Name: hsfScore, dtype: int32"
      ]
     },
     "metadata": {},
     "output_type": "display_data"
    },
    {
     "ename": "KeyboardInterrupt",
     "evalue": "",
     "output_type": "error",
     "traceback": [
      "\u001b[1;31m---------------------------------------------------------------------------\u001b[0m",
      "\u001b[1;31mKeyboardInterrupt\u001b[0m                         Traceback (most recent call last)",
      "\u001b[1;32m<ipython-input-28-ac174785082b>\u001b[0m in \u001b[0;36m<module>\u001b[1;34m()\u001b[0m\n\u001b[0;32m      1\u001b[0m \u001b[0mstart\u001b[0m \u001b[1;33m=\u001b[0m \u001b[0mtime\u001b[0m\u001b[1;33m.\u001b[0m\u001b[0mtime\u001b[0m\u001b[1;33m(\u001b[0m\u001b[1;33m)\u001b[0m\u001b[1;33m\u001b[0m\u001b[0m\n\u001b[0;32m      2\u001b[0m \u001b[1;33m\u001b[0m\u001b[0m\n\u001b[1;32m----> 3\u001b[1;33m \u001b[0mrunSingleSector\u001b[0m\u001b[1;33m(\u001b[0m\u001b[1;34m'Telecommunication Services'\u001b[0m\u001b[1;33m,\u001b[0m \u001b[1;36m1.52\u001b[0m\u001b[1;33m,\u001b[0m \u001b[1;36m1.81\u001b[0m\u001b[1;33m,\u001b[0m \u001b[1;32mTrue\u001b[0m\u001b[1;33m,\u001b[0m \u001b[1;32mTrue\u001b[0m\u001b[1;33m)\u001b[0m\u001b[1;33m\u001b[0m\u001b[0m\n\u001b[0m\u001b[0;32m      4\u001b[0m \u001b[1;33m\u001b[0m\u001b[0m\n\u001b[0;32m      5\u001b[0m \u001b[1;31m#for s in sectors:\u001b[0m\u001b[1;33m\u001b[0m\u001b[1;33m\u001b[0m\u001b[0m\n",
      "\u001b[1;32m<ipython-input-27-49ea95c9a0bd>\u001b[0m in \u001b[0;36mrunSingleSector\u001b[1;34m(sectorChosen, tbill, libor, IndPortfolios, IndPeriods)\u001b[0m\n\u001b[0;32m     45\u001b[0m \u001b[1;33m\u001b[0m\u001b[0m\n\u001b[0;32m     46\u001b[0m     \u001b[1;31m#call the prod() function\u001b[0m\u001b[1;33m\u001b[0m\u001b[1;33m\u001b[0m\u001b[0m\n\u001b[1;32m---> 47\u001b[1;33m     \u001b[0mprod\u001b[0m\u001b[1;33m(\u001b[0m\u001b[1;33m)\u001b[0m\u001b[1;33m\u001b[0m\u001b[0m\n\u001b[0m",
      "\u001b[1;32m<ipython-input-26-c6bdff463c71>\u001b[0m in \u001b[0;36mprod\u001b[1;34m()\u001b[0m\n\u001b[0;32m      5\u001b[0m         \u001b[0midentifier\u001b[0m \u001b[1;33m=\u001b[0m \u001b[0mcreateIdentifier\u001b[0m\u001b[1;33m(\u001b[0m\u001b[0mparams\u001b[0m\u001b[1;33m)\u001b[0m\u001b[1;33m\u001b[0m\u001b[0m\n\u001b[0;32m      6\u001b[0m         \u001b[1;31m#Calculate portfolios\u001b[0m\u001b[1;33m\u001b[0m\u001b[1;33m\u001b[0m\u001b[0m\n\u001b[1;32m----> 7\u001b[1;33m         \u001b[0mcalculatePortLoop\u001b[0m\u001b[1;33m(\u001b[0m\u001b[0mdatesList\u001b[0m\u001b[1;33m,\u001b[0m \u001b[0mparams\u001b[0m\u001b[1;33m,\u001b[0m \u001b[0midentifier\u001b[0m\u001b[1;33m)\u001b[0m\u001b[1;33m\u001b[0m\u001b[0m\n\u001b[0m\u001b[0;32m      8\u001b[0m         \u001b[1;31m#Average return for the frame over time\u001b[0m\u001b[1;33m\u001b[0m\u001b[1;33m\u001b[0m\u001b[0m\n\u001b[0;32m      9\u001b[0m         \u001b[0mdfTotalPort\u001b[0m\u001b[1;33m.\u001b[0m\u001b[0mloc\u001b[0m\u001b[1;33m[\u001b[0m\u001b[0mdfTotalPort\u001b[0m\u001b[1;33m[\u001b[0m\u001b[1;34m'ind'\u001b[0m\u001b[1;33m]\u001b[0m\u001b[1;33m==\u001b[0m\u001b[0mparams\u001b[0m\u001b[1;33m,\u001b[0m\u001b[1;34m'meanReturn'\u001b[0m\u001b[1;33m]\u001b[0m \u001b[1;33m=\u001b[0m \u001b[0mportSummaryDF\u001b[0m\u001b[1;33m[\u001b[0m\u001b[1;34m'return'\u001b[0m\u001b[1;33m]\u001b[0m\u001b[1;33m.\u001b[0m\u001b[0mmean\u001b[0m\u001b[1;33m(\u001b[0m\u001b[1;33m)\u001b[0m\u001b[1;33m\u001b[0m\u001b[0m\n",
      "\u001b[1;32m<ipython-input-25-cbfe3951f517>\u001b[0m in \u001b[0;36mcalculatePortLoop\u001b[1;34m(dateList, params, identity)\u001b[0m\n\u001b[0;32m     11\u001b[0m         \u001b[1;31m#Adds the values of the frame to the dataframe\u001b[0m\u001b[1;33m\u001b[0m\u001b[1;33m\u001b[0m\u001b[0m\n\u001b[0;32m     12\u001b[0m         \u001b[1;32mfor\u001b[0m \u001b[0mx\u001b[0m \u001b[1;32min\u001b[0m \u001b[0mrange\u001b[0m\u001b[1;33m(\u001b[0m\u001b[1;36m7\u001b[0m\u001b[1;33m)\u001b[0m\u001b[1;33m:\u001b[0m\u001b[1;33m\u001b[0m\u001b[0m\n\u001b[1;32m---> 13\u001b[1;33m             \u001b[0mportfolioDF\u001b[0m\u001b[1;33m[\u001b[0m\u001b[0mdfTests\u001b[0m\u001b[1;33m[\u001b[0m\u001b[0mx\u001b[0m\u001b[1;33m]\u001b[0m\u001b[1;33m]\u001b[0m \u001b[1;33m=\u001b[0m \u001b[0mparams\u001b[0m\u001b[1;33m[\u001b[0m\u001b[0mx\u001b[0m\u001b[1;33m]\u001b[0m\u001b[1;33m\u001b[0m\u001b[0m\n\u001b[0m\u001b[0;32m     14\u001b[0m \u001b[1;33m\u001b[0m\u001b[0m\n\u001b[0;32m     15\u001b[0m         \u001b[1;31m#Scores whether or not the value for each metric is at least as good as the frame value\u001b[0m\u001b[1;33m\u001b[0m\u001b[1;33m\u001b[0m\u001b[0m\n",
      "\u001b[1;32m~\\Anaconda3\\lib\\site-packages\\pandas\\core\\frame.py\u001b[0m in \u001b[0;36m__setitem__\u001b[1;34m(self, key, value)\u001b[0m\n\u001b[0;32m   3104\u001b[0m \u001b[1;33m\u001b[0m\u001b[0m\n\u001b[0;32m   3105\u001b[0m         \u001b[1;31m# see if we can slice the rows\u001b[0m\u001b[1;33m\u001b[0m\u001b[1;33m\u001b[0m\u001b[0m\n\u001b[1;32m-> 3106\u001b[1;33m         \u001b[0mindexer\u001b[0m \u001b[1;33m=\u001b[0m \u001b[0mconvert_to_index_sliceable\u001b[0m\u001b[1;33m(\u001b[0m\u001b[0mself\u001b[0m\u001b[1;33m,\u001b[0m \u001b[0mkey\u001b[0m\u001b[1;33m)\u001b[0m\u001b[1;33m\u001b[0m\u001b[0m\n\u001b[0m\u001b[0;32m   3107\u001b[0m         \u001b[1;32mif\u001b[0m \u001b[0mindexer\u001b[0m \u001b[1;32mis\u001b[0m \u001b[1;32mnot\u001b[0m \u001b[1;32mNone\u001b[0m\u001b[1;33m:\u001b[0m\u001b[1;33m\u001b[0m\u001b[0m\n\u001b[0;32m   3108\u001b[0m             \u001b[1;32mreturn\u001b[0m \u001b[0mself\u001b[0m\u001b[1;33m.\u001b[0m\u001b[0m_setitem_slice\u001b[0m\u001b[1;33m(\u001b[0m\u001b[0mindexer\u001b[0m\u001b[1;33m,\u001b[0m \u001b[0mvalue\u001b[0m\u001b[1;33m)\u001b[0m\u001b[1;33m\u001b[0m\u001b[0m\n",
      "\u001b[1;32m~\\Anaconda3\\lib\\site-packages\\pandas\\core\\indexing.py\u001b[0m in \u001b[0;36mconvert_to_index_sliceable\u001b[1;34m(obj, key)\u001b[0m\n\u001b[0;32m   2336\u001b[0m         \u001b[1;32mif\u001b[0m \u001b[0midx\u001b[0m\u001b[1;33m.\u001b[0m\u001b[0mis_all_dates\u001b[0m\u001b[1;33m:\u001b[0m\u001b[1;33m\u001b[0m\u001b[0m\n\u001b[0;32m   2337\u001b[0m             \u001b[1;32mtry\u001b[0m\u001b[1;33m:\u001b[0m\u001b[1;33m\u001b[0m\u001b[0m\n\u001b[1;32m-> 2338\u001b[1;33m                 \u001b[1;32mreturn\u001b[0m \u001b[0midx\u001b[0m\u001b[1;33m.\u001b[0m\u001b[0m_get_string_slice\u001b[0m\u001b[1;33m(\u001b[0m\u001b[0mkey\u001b[0m\u001b[1;33m)\u001b[0m\u001b[1;33m\u001b[0m\u001b[0m\n\u001b[0m\u001b[0;32m   2339\u001b[0m             \u001b[1;32mexcept\u001b[0m \u001b[1;33m(\u001b[0m\u001b[0mKeyError\u001b[0m\u001b[1;33m,\u001b[0m \u001b[0mValueError\u001b[0m\u001b[1;33m,\u001b[0m \u001b[0mNotImplementedError\u001b[0m\u001b[1;33m)\u001b[0m\u001b[1;33m:\u001b[0m\u001b[1;33m\u001b[0m\u001b[0m\n\u001b[0;32m   2340\u001b[0m                 \u001b[1;32mreturn\u001b[0m \u001b[1;32mNone\u001b[0m\u001b[1;33m\u001b[0m\u001b[0m\n",
      "\u001b[1;32m~\\Anaconda3\\lib\\site-packages\\pandas\\core\\indexes\\datetimes.py\u001b[0m in \u001b[0;36m_get_string_slice\u001b[1;34m(self, key, use_lhs, use_rhs)\u001b[0m\n\u001b[0;32m   1673\u001b[0m         freq = getattr(self, 'freqstr',\n\u001b[0;32m   1674\u001b[0m                        getattr(self, 'inferred_freq', None))\n\u001b[1;32m-> 1675\u001b[1;33m         \u001b[0m_\u001b[0m\u001b[1;33m,\u001b[0m \u001b[0mparsed\u001b[0m\u001b[1;33m,\u001b[0m \u001b[0mreso\u001b[0m \u001b[1;33m=\u001b[0m \u001b[0mparsing\u001b[0m\u001b[1;33m.\u001b[0m\u001b[0mparse_time_string\u001b[0m\u001b[1;33m(\u001b[0m\u001b[0mkey\u001b[0m\u001b[1;33m,\u001b[0m \u001b[0mfreq\u001b[0m\u001b[1;33m)\u001b[0m\u001b[1;33m\u001b[0m\u001b[0m\n\u001b[0m\u001b[0;32m   1676\u001b[0m         loc = self._partial_date_slice(reso, parsed, use_lhs=use_lhs,\n\u001b[0;32m   1677\u001b[0m                                        use_rhs=use_rhs)\n",
      "\u001b[1;32mpandas\\_libs\\tslibs\\parsing.pyx\u001b[0m in \u001b[0;36mpandas._libs.tslibs.parsing.parse_time_string\u001b[1;34m()\u001b[0m\n",
      "\u001b[1;32m~\\Anaconda3\\lib\\importlib\\_bootstrap.py\u001b[0m in \u001b[0;36m_find_and_load\u001b[1;34m(name, import_)\u001b[0m\n",
      "\u001b[1;32m~\\Anaconda3\\lib\\importlib\\_bootstrap.py\u001b[0m in \u001b[0;36m_find_and_load_unlocked\u001b[1;34m(name, import_)\u001b[0m\n",
      "\u001b[1;32m~\\Anaconda3\\lib\\importlib\\_bootstrap.py\u001b[0m in \u001b[0;36m_find_spec\u001b[1;34m(name, path, target)\u001b[0m\n",
      "\u001b[1;32m~\\Anaconda3\\lib\\importlib\\_bootstrap_external.py\u001b[0m in \u001b[0;36mfind_spec\u001b[1;34m(cls, fullname, path, target)\u001b[0m\n",
      "\u001b[1;32m~\\Anaconda3\\lib\\importlib\\_bootstrap_external.py\u001b[0m in \u001b[0;36m_get_spec\u001b[1;34m(cls, fullname, path, target)\u001b[0m\n",
      "\u001b[1;32m~\\Anaconda3\\lib\\importlib\\_bootstrap_external.py\u001b[0m in \u001b[0;36mfind_spec\u001b[1;34m(self, fullname, target)\u001b[0m\n",
      "\u001b[1;32m~\\Anaconda3\\lib\\importlib\\_bootstrap_external.py\u001b[0m in \u001b[0;36m_path_stat\u001b[1;34m(path)\u001b[0m\n",
      "\u001b[1;31mKeyboardInterrupt\u001b[0m: "
     ]
    }
   ],
   "source": [
    "start = time.time()\n",
    "\n",
    "runSingleSector('Telecommunication Services', 1.52, 1.81, False, False)\n",
    "\n",
    "#The two lines below would allow us to run all sectors at once\n",
    "#for s in sectors:\n",
    "#    runSingleSector(s, tbill, libor, False, False)\n",
    "\n",
    "stop = time.time()\n",
    "\n",
    "print('Time: ', stop - start)  "
   ]
  },
  {
   "cell_type": "code",
   "execution_count": null,
   "metadata": {},
   "outputs": [],
   "source": []
  }
 ],
 "metadata": {
  "kernelspec": {
   "display_name": "Python 3",
   "language": "python",
   "name": "python3"
  },
  "language_info": {
   "codemirror_mode": {
    "name": "ipython",
    "version": 3
   },
   "file_extension": ".py",
   "mimetype": "text/x-python",
   "name": "python",
   "nbconvert_exporter": "python",
   "pygments_lexer": "ipython3",
   "version": "3.6.5"
  }
 },
 "nbformat": 4,
 "nbformat_minor": 2
}
