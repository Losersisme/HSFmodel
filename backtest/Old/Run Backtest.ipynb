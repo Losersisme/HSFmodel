{
 "cells": [
  {
   "cell_type": "code",
   "execution_count": null,
   "metadata": {},
   "outputs": [
    {
     "name": "stderr",
     "output_type": "stream",
     "text": [
      "C:\\Users\\2rtma\\Documents\\HSF\\modeling_2018\\hsfbacktest\\python\\backtest\\backtest2.py:100: DeprecationWarning: \n",
      ".ix is deprecated. Please use\n",
      ".loc for label based indexing or\n",
      ".iloc for positional indexing\n",
      "\n",
      "See the documentation here:\n",
      "http://pandas.pydata.org/pandas-docs/stable/indexing.html#ix-indexer-is-deprecated\n",
      "  dfPort.loc[dfPort.index==date,'peTest'] = df.ix[0,'peTest']\n",
      "C:\\Users\\2rtma\\Documents\\HSF\\modeling_2018\\hsfbacktest\\python\\backtest\\backtest2.py:101: DeprecationWarning: \n",
      ".ix is deprecated. Please use\n",
      ".loc for label based indexing or\n",
      ".iloc for positional indexing\n",
      "\n",
      "See the documentation here:\n",
      "http://pandas.pydata.org/pandas-docs/stable/indexing.html#ix-indexer-is-deprecated\n",
      "  dfPort.loc[dfPort.index==date,'pbTest'] = df.ix[0,'pbTest']\n",
      "C:\\Users\\2rtma\\Documents\\HSF\\modeling_2018\\hsfbacktest\\python\\backtest\\backtest2.py:102: DeprecationWarning: \n",
      ".ix is deprecated. Please use\n",
      ".loc for label based indexing or\n",
      ".iloc for positional indexing\n",
      "\n",
      "See the documentation here:\n",
      "http://pandas.pydata.org/pandas-docs/stable/indexing.html#ix-indexer-is-deprecated\n",
      "  dfPort.loc[dfPort.index==date,'epsTest'] = df.ix[0,'epsTest']\n",
      "C:\\Users\\2rtma\\Documents\\HSF\\modeling_2018\\hsfbacktest\\python\\backtest\\backtest2.py:103: DeprecationWarning: \n",
      ".ix is deprecated. Please use\n",
      ".loc for label based indexing or\n",
      ".iloc for positional indexing\n",
      "\n",
      "See the documentation here:\n",
      "http://pandas.pydata.org/pandas-docs/stable/indexing.html#ix-indexer-is-deprecated\n",
      "  dfPort.loc[dfPort.index==date,'deTest'] = df.ix[0,'deTest']\n",
      "C:\\Users\\2rtma\\Documents\\HSF\\modeling_2018\\hsfbacktest\\python\\backtest\\backtest2.py:104: DeprecationWarning: \n",
      ".ix is deprecated. Please use\n",
      ".loc for label based indexing or\n",
      ".iloc for positional indexing\n",
      "\n",
      "See the documentation here:\n",
      "http://pandas.pydata.org/pandas-docs/stable/indexing.html#ix-indexer-is-deprecated\n",
      "  dfPort.loc[dfPort.index==date,'fcfTest'] = df.ix[0,'fcfTest']\n",
      "C:\\Users\\2rtma\\Documents\\HSF\\modeling_2018\\hsfbacktest\\python\\backtest\\backtest2.py:105: DeprecationWarning: \n",
      ".ix is deprecated. Please use\n",
      ".loc for label based indexing or\n",
      ".iloc for positional indexing\n",
      "\n",
      "See the documentation here:\n",
      "http://pandas.pydata.org/pandas-docs/stable/indexing.html#ix-indexer-is-deprecated\n",
      "  dfPort.loc[dfPort.index==date,'roeTest'] = df.ix[0,'roeTest']\n",
      "C:\\Users\\2rtma\\Documents\\HSF\\modeling_2018\\hsfbacktest\\python\\backtest\\backtest2.py:106: DeprecationWarning: \n",
      ".ix is deprecated. Please use\n",
      ".loc for label based indexing or\n",
      ".iloc for positional indexing\n",
      "\n",
      "See the documentation here:\n",
      "http://pandas.pydata.org/pandas-docs/stable/indexing.html#ix-indexer-is-deprecated\n",
      "  dfPort.loc[dfPort.index==date,'roaTest'] = df.ix[0,'roaTest']\n"
     ]
    }
   ],
   "source": [
    "#Run Backtest\n",
    "%run backtest2.py"
   ]
  },
  {
   "cell_type": "code",
   "execution_count": null,
   "metadata": {},
   "outputs": [],
   "source": []
  }
 ],
 "metadata": {
  "kernelspec": {
   "display_name": "Python 3",
   "language": "python",
   "name": "python3"
  },
  "language_info": {
   "codemirror_mode": {
    "name": "ipython",
    "version": 3
   },
   "file_extension": ".py",
   "mimetype": "text/x-python",
   "name": "python",
   "nbconvert_exporter": "python",
   "pygments_lexer": "ipython3",
   "version": "3.6.5"
  }
 },
 "nbformat": 4,
 "nbformat_minor": 2
}
