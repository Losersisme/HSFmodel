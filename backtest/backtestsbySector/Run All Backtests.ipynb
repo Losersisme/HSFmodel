{
 "cells": [
  {
   "cell_type": "code",
   "execution_count": 1,
   "metadata": {
    "scrolled": true
   },
   "outputs": [],
   "source": [
    "#Not needed - no longer a sector\n",
    "#Failed - Invalid Treynor values\n",
    "#Runtime:  139.7149600982666\n",
    "#%run backtest_Telecom.py"
   ]
  },
  {
   "cell_type": "code",
   "execution_count": 1,
   "metadata": {},
   "outputs": [
    {
     "name": "stderr",
     "output_type": "stream",
     "text": [
      "C:\\Users\\2rtma\\Documents\\HSF\\HSFmodel\\backtest\\backtestsbySector\\backtest_Utilities.py:101: DeprecationWarning: \n",
      ".ix is deprecated. Please use\n",
      ".loc for label based indexing or\n",
      ".iloc for positional indexing\n",
      "\n",
      "See the documentation here:\n",
      "http://pandas.pydata.org/pandas-docs/stable/indexing.html#ix-indexer-is-deprecated\n",
      "  dfPort.loc[dfPort.index==date,'peTest'] = df.ix[0,'peTest']\n",
      "C:\\Users\\2rtma\\Documents\\HSF\\HSFmodel\\backtest\\backtestsbySector\\backtest_Utilities.py:102: DeprecationWarning: \n",
      ".ix is deprecated. Please use\n",
      ".loc for label based indexing or\n",
      ".iloc for positional indexing\n",
      "\n",
      "See the documentation here:\n",
      "http://pandas.pydata.org/pandas-docs/stable/indexing.html#ix-indexer-is-deprecated\n",
      "  dfPort.loc[dfPort.index==date,'pbTest'] = df.ix[0,'pbTest']\n",
      "C:\\Users\\2rtma\\Documents\\HSF\\HSFmodel\\backtest\\backtestsbySector\\backtest_Utilities.py:103: DeprecationWarning: \n",
      ".ix is deprecated. Please use\n",
      ".loc for label based indexing or\n",
      ".iloc for positional indexing\n",
      "\n",
      "See the documentation here:\n",
      "http://pandas.pydata.org/pandas-docs/stable/indexing.html#ix-indexer-is-deprecated\n",
      "  dfPort.loc[dfPort.index==date,'epsTest'] = df.ix[0,'epsTest']\n",
      "C:\\Users\\2rtma\\Documents\\HSF\\HSFmodel\\backtest\\backtestsbySector\\backtest_Utilities.py:104: DeprecationWarning: \n",
      ".ix is deprecated. Please use\n",
      ".loc for label based indexing or\n",
      ".iloc for positional indexing\n",
      "\n",
      "See the documentation here:\n",
      "http://pandas.pydata.org/pandas-docs/stable/indexing.html#ix-indexer-is-deprecated\n",
      "  dfPort.loc[dfPort.index==date,'deTest'] = df.ix[0,'deTest']\n",
      "C:\\Users\\2rtma\\Documents\\HSF\\HSFmodel\\backtest\\backtestsbySector\\backtest_Utilities.py:105: DeprecationWarning: \n",
      ".ix is deprecated. Please use\n",
      ".loc for label based indexing or\n",
      ".iloc for positional indexing\n",
      "\n",
      "See the documentation here:\n",
      "http://pandas.pydata.org/pandas-docs/stable/indexing.html#ix-indexer-is-deprecated\n",
      "  dfPort.loc[dfPort.index==date,'fcfTest'] = df.ix[0,'fcfTest']\n",
      "C:\\Users\\2rtma\\Documents\\HSF\\HSFmodel\\backtest\\backtestsbySector\\backtest_Utilities.py:106: DeprecationWarning: \n",
      ".ix is deprecated. Please use\n",
      ".loc for label based indexing or\n",
      ".iloc for positional indexing\n",
      "\n",
      "See the documentation here:\n",
      "http://pandas.pydata.org/pandas-docs/stable/indexing.html#ix-indexer-is-deprecated\n",
      "  dfPort.loc[dfPort.index==date,'roeTest'] = df.ix[0,'roeTest']\n",
      "C:\\Users\\2rtma\\Documents\\HSF\\HSFmodel\\backtest\\backtestsbySector\\backtest_Utilities.py:107: DeprecationWarning: \n",
      ".ix is deprecated. Please use\n",
      ".loc for label based indexing or\n",
      ".iloc for positional indexing\n",
      "\n",
      "See the documentation here:\n",
      "http://pandas.pydata.org/pandas-docs/stable/indexing.html#ix-indexer-is-deprecated\n",
      "  dfPort.loc[dfPort.index==date,'roaTest'] = df.ix[0,'roaTest']\n"
     ]
    },
    {
     "name": "stdout",
     "output_type": "stream",
     "text": [
      "Runtime:  364.8089783191681\n"
     ]
    }
   ],
   "source": [
    "#Runtime:  330.4378788471222\n",
    "%run backtest_Utilities.py"
   ]
  },
  {
   "cell_type": "code",
   "execution_count": 3,
   "metadata": {},
   "outputs": [],
   "source": [
    "#14734.96823477745\n",
    "#%run backtest_Energy.py"
   ]
  },
  {
   "cell_type": "code",
   "execution_count": 4,
   "metadata": {},
   "outputs": [],
   "source": [
    "#Runtime:  13240.945509433746\n",
    "#%run backtest_HealthCare.py"
   ]
  },
  {
   "cell_type": "code",
   "execution_count": 5,
   "metadata": {
    "scrolled": true
   },
   "outputs": [],
   "source": [
    "#49687.686938762665\n",
    "#fixed zero value error\n",
    "#%run backtest_ConsumerDiscretionary.py"
   ]
  },
  {
   "cell_type": "code",
   "execution_count": 6,
   "metadata": {},
   "outputs": [],
   "source": [
    "#Runtime:  17684.96323657036s\n",
    "#%run backtest_ConsumerStaples.py"
   ]
  },
  {
   "cell_type": "code",
   "execution_count": 1,
   "metadata": {},
   "outputs": [
    {
     "name": "stderr",
     "output_type": "stream",
     "text": [
      "C:\\Users\\2rtma\\Documents\\HSF\\modeling_2018\\hsfbacktest\\python\\backtest\\backtestsbySector\\backtest_RealEstate.py:100: DeprecationWarning: \n",
      ".ix is deprecated. Please use\n",
      ".loc for label based indexing or\n",
      ".iloc for positional indexing\n",
      "\n",
      "See the documentation here:\n",
      "http://pandas.pydata.org/pandas-docs/stable/indexing.html#ix-indexer-is-deprecated\n",
      "  dfPort.loc[dfPort.index==date,'peTest'] = df.ix[0,'peTest']\n",
      "C:\\Users\\2rtma\\Documents\\HSF\\modeling_2018\\hsfbacktest\\python\\backtest\\backtestsbySector\\backtest_RealEstate.py:101: DeprecationWarning: \n",
      ".ix is deprecated. Please use\n",
      ".loc for label based indexing or\n",
      ".iloc for positional indexing\n",
      "\n",
      "See the documentation here:\n",
      "http://pandas.pydata.org/pandas-docs/stable/indexing.html#ix-indexer-is-deprecated\n",
      "  dfPort.loc[dfPort.index==date,'pbTest'] = df.ix[0,'pbTest']\n",
      "C:\\Users\\2rtma\\Documents\\HSF\\modeling_2018\\hsfbacktest\\python\\backtest\\backtestsbySector\\backtest_RealEstate.py:102: DeprecationWarning: \n",
      ".ix is deprecated. Please use\n",
      ".loc for label based indexing or\n",
      ".iloc for positional indexing\n",
      "\n",
      "See the documentation here:\n",
      "http://pandas.pydata.org/pandas-docs/stable/indexing.html#ix-indexer-is-deprecated\n",
      "  dfPort.loc[dfPort.index==date,'epsTest'] = df.ix[0,'epsTest']\n",
      "C:\\Users\\2rtma\\Documents\\HSF\\modeling_2018\\hsfbacktest\\python\\backtest\\backtestsbySector\\backtest_RealEstate.py:103: DeprecationWarning: \n",
      ".ix is deprecated. Please use\n",
      ".loc for label based indexing or\n",
      ".iloc for positional indexing\n",
      "\n",
      "See the documentation here:\n",
      "http://pandas.pydata.org/pandas-docs/stable/indexing.html#ix-indexer-is-deprecated\n",
      "  dfPort.loc[dfPort.index==date,'deTest'] = df.ix[0,'deTest']\n",
      "C:\\Users\\2rtma\\Documents\\HSF\\modeling_2018\\hsfbacktest\\python\\backtest\\backtestsbySector\\backtest_RealEstate.py:104: DeprecationWarning: \n",
      ".ix is deprecated. Please use\n",
      ".loc for label based indexing or\n",
      ".iloc for positional indexing\n",
      "\n",
      "See the documentation here:\n",
      "http://pandas.pydata.org/pandas-docs/stable/indexing.html#ix-indexer-is-deprecated\n",
      "  dfPort.loc[dfPort.index==date,'fcfTest'] = df.ix[0,'fcfTest']\n",
      "C:\\Users\\2rtma\\Documents\\HSF\\modeling_2018\\hsfbacktest\\python\\backtest\\backtestsbySector\\backtest_RealEstate.py:105: DeprecationWarning: \n",
      ".ix is deprecated. Please use\n",
      ".loc for label based indexing or\n",
      ".iloc for positional indexing\n",
      "\n",
      "See the documentation here:\n",
      "http://pandas.pydata.org/pandas-docs/stable/indexing.html#ix-indexer-is-deprecated\n",
      "  dfPort.loc[dfPort.index==date,'roeTest'] = df.ix[0,'roeTest']\n",
      "C:\\Users\\2rtma\\Documents\\HSF\\modeling_2018\\hsfbacktest\\python\\backtest\\backtestsbySector\\backtest_RealEstate.py:106: DeprecationWarning: \n",
      ".ix is deprecated. Please use\n",
      ".loc for label based indexing or\n",
      ".iloc for positional indexing\n",
      "\n",
      "See the documentation here:\n",
      "http://pandas.pydata.org/pandas-docs/stable/indexing.html#ix-indexer-is-deprecated\n",
      "  dfPort.loc[dfPort.index==date,'roaTest'] = df.ix[0,'roaTest']\n"
     ]
    },
    {
     "name": "stdout",
     "output_type": "stream",
     "text": [
      "Runtime:  89673.68995547295\n"
     ]
    }
   ],
   "source": [
    "#89673.68995547295\n",
    "%run backtest_RealEstate.py"
   ]
  },
  {
   "cell_type": "code",
   "execution_count": 2,
   "metadata": {},
   "outputs": [
    {
     "name": "stderr",
     "output_type": "stream",
     "text": [
      "C:\\Users\\2rtma\\Documents\\HSF\\modeling_2018\\hsfbacktest\\python\\backtest\\backtestsbySector\\backtest_Materials.py:101: DeprecationWarning: \n",
      ".ix is deprecated. Please use\n",
      ".loc for label based indexing or\n",
      ".iloc for positional indexing\n",
      "\n",
      "See the documentation here:\n",
      "http://pandas.pydata.org/pandas-docs/stable/indexing.html#ix-indexer-is-deprecated\n",
      "  dfPort.loc[dfPort.index==date,'peTest'] = df.ix[0,'peTest']\n",
      "C:\\Users\\2rtma\\Documents\\HSF\\modeling_2018\\hsfbacktest\\python\\backtest\\backtestsbySector\\backtest_Materials.py:102: DeprecationWarning: \n",
      ".ix is deprecated. Please use\n",
      ".loc for label based indexing or\n",
      ".iloc for positional indexing\n",
      "\n",
      "See the documentation here:\n",
      "http://pandas.pydata.org/pandas-docs/stable/indexing.html#ix-indexer-is-deprecated\n",
      "  dfPort.loc[dfPort.index==date,'pbTest'] = df.ix[0,'pbTest']\n",
      "C:\\Users\\2rtma\\Documents\\HSF\\modeling_2018\\hsfbacktest\\python\\backtest\\backtestsbySector\\backtest_Materials.py:103: DeprecationWarning: \n",
      ".ix is deprecated. Please use\n",
      ".loc for label based indexing or\n",
      ".iloc for positional indexing\n",
      "\n",
      "See the documentation here:\n",
      "http://pandas.pydata.org/pandas-docs/stable/indexing.html#ix-indexer-is-deprecated\n",
      "  dfPort.loc[dfPort.index==date,'epsTest'] = df.ix[0,'epsTest']\n",
      "C:\\Users\\2rtma\\Documents\\HSF\\modeling_2018\\hsfbacktest\\python\\backtest\\backtestsbySector\\backtest_Materials.py:104: DeprecationWarning: \n",
      ".ix is deprecated. Please use\n",
      ".loc for label based indexing or\n",
      ".iloc for positional indexing\n",
      "\n",
      "See the documentation here:\n",
      "http://pandas.pydata.org/pandas-docs/stable/indexing.html#ix-indexer-is-deprecated\n",
      "  dfPort.loc[dfPort.index==date,'deTest'] = df.ix[0,'deTest']\n",
      "C:\\Users\\2rtma\\Documents\\HSF\\modeling_2018\\hsfbacktest\\python\\backtest\\backtestsbySector\\backtest_Materials.py:105: DeprecationWarning: \n",
      ".ix is deprecated. Please use\n",
      ".loc for label based indexing or\n",
      ".iloc for positional indexing\n",
      "\n",
      "See the documentation here:\n",
      "http://pandas.pydata.org/pandas-docs/stable/indexing.html#ix-indexer-is-deprecated\n",
      "  dfPort.loc[dfPort.index==date,'fcfTest'] = df.ix[0,'fcfTest']\n",
      "C:\\Users\\2rtma\\Documents\\HSF\\modeling_2018\\hsfbacktest\\python\\backtest\\backtestsbySector\\backtest_Materials.py:106: DeprecationWarning: \n",
      ".ix is deprecated. Please use\n",
      ".loc for label based indexing or\n",
      ".iloc for positional indexing\n",
      "\n",
      "See the documentation here:\n",
      "http://pandas.pydata.org/pandas-docs/stable/indexing.html#ix-indexer-is-deprecated\n",
      "  dfPort.loc[dfPort.index==date,'roeTest'] = df.ix[0,'roeTest']\n",
      "C:\\Users\\2rtma\\Documents\\HSF\\modeling_2018\\hsfbacktest\\python\\backtest\\backtestsbySector\\backtest_Materials.py:107: DeprecationWarning: \n",
      ".ix is deprecated. Please use\n",
      ".loc for label based indexing or\n",
      ".iloc for positional indexing\n",
      "\n",
      "See the documentation here:\n",
      "http://pandas.pydata.org/pandas-docs/stable/indexing.html#ix-indexer-is-deprecated\n",
      "  dfPort.loc[dfPort.index==date,'roaTest'] = df.ix[0,'roaTest']\n"
     ]
    },
    {
     "name": "stdout",
     "output_type": "stream",
     "text": [
      "Runtime:  26138.785987615585\n"
     ]
    }
   ],
   "source": [
    "%run backtest_Materials.py"
   ]
  },
  {
   "cell_type": "code",
   "execution_count": 4,
   "metadata": {},
   "outputs": [],
   "source": [
    "#Runtime:  604.1442046165466s\n",
    "#%run backtest_Financials.py"
   ]
  },
  {
   "cell_type": "code",
   "execution_count": 5,
   "metadata": {},
   "outputs": [],
   "source": [
    "#Runtime:  18392.130751132965s\n",
    "#%run backtest_InformationTechnology.py"
   ]
  },
  {
   "cell_type": "code",
   "execution_count": 10,
   "metadata": {
    "scrolled": true
   },
   "outputs": [],
   "source": [
    "#Runtime: 9927.034249067307s\n",
    "#%run backtest_Industrials.py"
   ]
  },
  {
   "cell_type": "code",
   "execution_count": 5,
   "metadata": {},
   "outputs": [
    {
     "data": {
      "text/plain": [
       "'2 days, 18:46:55'"
      ]
     },
     "execution_count": 5,
     "metadata": {},
     "output_type": "execute_result"
    }
   ],
   "source": [
    "import datetime\n",
    "s = round(330.4378788471222 + 14734.96823477745 +\\\n",
    "13240.945509433746 + 17684.96323657036 + 604.1442046165466 +\\\n",
    "18392.130751132965 + 9927.034249067307 + 49687.686938762665 + 89673.68995547295 +26138.785987615585)\n",
    "str(datetime.timedelta(seconds = s))\n"
   ]
  },
  {
   "cell_type": "code",
   "execution_count": null,
   "metadata": {},
   "outputs": [],
   "source": []
  },
  {
   "cell_type": "code",
   "execution_count": null,
   "metadata": {},
   "outputs": [],
   "source": []
  },
  {
   "cell_type": "code",
   "execution_count": null,
   "metadata": {},
   "outputs": [],
   "source": []
  }
 ],
 "metadata": {
  "kernelspec": {
   "display_name": "Python 3",
   "language": "python",
   "name": "python3"
  },
  "language_info": {
   "codemirror_mode": {
    "name": "ipython",
    "version": 3
   },
   "file_extension": ".py",
   "mimetype": "text/x-python",
   "name": "python",
   "nbconvert_exporter": "python",
   "pygments_lexer": "ipython3",
   "version": "3.6.5"
  }
 },
 "nbformat": 4,
 "nbformat_minor": 2
}
